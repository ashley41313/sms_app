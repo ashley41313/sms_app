{
 "cells": [
  {
   "cell_type": "code",
   "execution_count": 55,
   "id": "d5923ac6-4d88-4025-834f-f5dfd398a5f5",
   "metadata": {},
   "outputs": [
    {
     "name": "stdout",
     "output_type": "stream",
     "text": [
      "['17698949257', '111111111', '7608949257']\n",
      "['+17698949257', '+17608949257']\n",
      "an error occurred\n",
      "SMadc941ba78f230b5a56d72e9ff1de5cc\n",
      "SMd2943db8f730834db90c61874370931d\n"
     ]
    }
   ],
   "source": [
    "# sms_app.py written by Ashley Eckert, 2022\n",
    "# import libraries \n",
    "import os\n",
    "import re\n",
    "import pandas as pd\n",
    "from twilio.rest import Client\n",
    "\n",
    "# connect to the Twilio API \n",
    "account_sid = 'ACCOUNT_SID'\n",
    "auth_token = 'AUTH_TOKEN'\n",
    "client = Client(account_sid, auth_token)\n",
    "\n",
    "#import the csv file\n",
    "df = pd.read_csv ('contacts-test.csv')\n",
    "\n",
    "#pull the phone numbers into a list\n",
    "phone_numbers = list(df[\"phone\"])\n",
    "clean_numbers = []\n",
    "\n",
    "#clean phone numbers data\n",
    "#strip each number of any non numerical values\n",
    "for i in range(len(phone_numbers)):    \n",
    "    x = re.sub('\\D', '', phone_numbers[i])\n",
    "    phone_numbers[i] = x\n",
    "\n",
    "    #only keep numbers that have 10 digits \n",
    "    #(11 if including country code\n",
    "    if len(phone_numbers[i]) == 10:\n",
    "        temp = \"+1\" + phone_numbers[i]\n",
    "        clean_numbers.append(temp)\n",
    "        \n",
    "    elif len(phone_numbers[i]) == 11 and phone_numbers[i][0] == '1':\n",
    "        temp = \"+\" + phone_numbers[i]\n",
    "        clean_numbers.append(temp)\n",
    "\n",
    "    else:\n",
    "        continue \n",
    "        \n",
    "\n",
    "#send out message to each phone number \n",
    "for number in clean_numbers:\n",
    "    try:\n",
    "        message = client.messages \\\n",
    "                        .create(\n",
    "                             body=\"Message to send out. :)\",\n",
    "                             from_='+18326696444',\n",
    "                             to=number\n",
    "                         )\n",
    "    except: \n",
    "        print(\"an error occurred\")\n",
    "\n",
    "    print(message.sid)\n",
    "\n",
    "    "
   ]
  },
  {
   "cell_type": "code",
   "execution_count": null,
   "id": "9e3c7479-ecbf-4577-854a-75f702e3a341",
   "metadata": {},
   "outputs": [],
   "source": []
  },
  {
   "cell_type": "code",
   "execution_count": null,
   "id": "e4866e44-2378-41e4-9492-c05a200d65c2",
   "metadata": {},
   "outputs": [],
   "source": []
  },
  {
   "cell_type": "code",
   "execution_count": null,
   "id": "80557f21-3ec4-4937-a58f-3006d4ceb193",
   "metadata": {},
   "outputs": [],
   "source": []
  }
 ],
 "metadata": {
  "kernelspec": {
   "display_name": "Python 3 (ipykernel)",
   "language": "python",
   "name": "python3"
  },
  "language_info": {
   "codemirror_mode": {
    "name": "ipython",
    "version": 3
   },
   "file_extension": ".py",
   "mimetype": "text/x-python",
   "name": "python",
   "nbconvert_exporter": "python",
   "pygments_lexer": "ipython3",
   "version": "3.9.4"
  }
 },
 "nbformat": 4,
 "nbformat_minor": 5
}
